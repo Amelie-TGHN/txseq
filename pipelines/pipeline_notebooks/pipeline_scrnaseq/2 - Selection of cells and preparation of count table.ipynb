{
 "cells": [
  {
   "cell_type": "code",
   "execution_count": 3,
   "metadata": {
    "collapsed": false
   },
   "outputs": [
    {
     "name": "stdout",
     "output_type": "stream",
     "text": [
      "The rpy2.ipython extension is already loaded. To reload it, use:\n",
      "  %reload_ext rpy2.ipython\n",
      "set database db: ../csvdb\n",
      "set database anndb: /gfs/mirror/annotations/mm10_ensembl83/csvdb\n",
      "set database ipydb: csvdb\n"
     ]
    }
   ],
   "source": [
    "%run notebook.config.ipy"
   ]
  },
  {
   "cell_type": "markdown",
   "metadata": {},
   "source": [
    "*Unmelt the count data to a new table*"
   ]
  },
  {
   "cell_type": "code",
   "execution_count": 4,
   "metadata": {
    "collapsed": false
   },
   "outputs": [
    {
     "name": "stdout",
     "output_type": "stream",
     "text": [
      "(22014, 147)\n"
     ]
    }
   ],
   "source": [
    "statement = '''select * from htseq_counts'''\n",
    "\n",
    "counts = DB.fetch_DataFrame(statement, db)\n",
    "count_table = counts.pivot(columns=\"track\", index=\"gene_id\", values=\"counts\")\n",
    "\n",
    "print count_table.shape\n",
    "\n",
    "DB.write_DataFrame(count_table,\"count_table\",ipydb)\n",
    "#count_table.to_csv(\"count_table.txt\",sep=\"\\t\")\n"
   ]
  },
  {
   "cell_type": "markdown",
   "metadata": {},
   "source": [
    "*Select the cells based on the QC metrics*"
   ]
  },
  {
   "cell_type": "code",
   "execution_count": 10,
   "metadata": {
    "collapsed": false
   },
   "outputs": [
    {
     "name": "stdout",
     "output_type": "stream",
     "text": [
      "42\n"
     ]
    }
   ],
   "source": [
    "# e.g. select cells:\n",
    "# (i) expressing more than 3000 genes and\n",
    "# (ii) where <50% reads map to spike-in sequences and\n",
    "# (iii) whic have less than 7 million reads.\n",
    "\n",
    "statement = '''select sample \n",
    "               from qc_summary q\n",
    "               where q.cufflinks_no_genes_pc > 3000\n",
    "                 and q.fraction_spike < 0.5\n",
    "                 and q.total_reads < 7000000'''\n",
    "\n",
    "good_samples = DB.fetch_DataFrame(statement, db)[\"sample\"].values\n",
    "\n",
    "print len(good_samples)"
   ]
  },
  {
   "cell_type": "markdown",
   "metadata": {},
   "source": [
    "*Prepare table of selected cells*"
   ]
  },
  {
   "cell_type": "code",
   "execution_count": 11,
   "metadata": {
    "collapsed": false
   },
   "outputs": [
    {
     "name": "stdout",
     "output_type": "stream",
     "text": [
      "(22014, 43)\n"
     ]
    }
   ],
   "source": [
    "sample_stat = '\"' + '\", \"'.join(good_samples) + '\"'\n",
    "\n",
    "# fetch a pandas dataframe containing the \"good\" cells (samples)\n",
    "statement = '''select gene_id, %(sample_stat)s\n",
    "               from count_table''' % locals()\n",
    "\n",
    "count_table_filtered = DB.fetch_DataFrame(statement, ipydb)\n",
    "print count_table_filtered.shape\n",
    "\n",
    "# write a new frame containing the filtered data\n",
    "DB.write_DataFrame(count_table_filtered, \"count_table_filtered\", ipydb)"
   ]
  }
 ],
 "metadata": {
  "kernelspec": {
   "display_name": "Python 2",
   "language": "python",
   "name": "python2"
  },
  "language_info": {
   "codemirror_mode": {
    "name": "ipython",
    "version": 2
   },
   "file_extension": ".py",
   "mimetype": "text/x-python",
   "name": "python",
   "nbconvert_exporter": "python",
   "pygments_lexer": "ipython2",
   "version": "2.7.9"
  }
 },
 "nbformat": 4,
 "nbformat_minor": 0
}
