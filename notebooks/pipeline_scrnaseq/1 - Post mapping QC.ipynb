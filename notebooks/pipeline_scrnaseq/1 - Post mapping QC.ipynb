{
 "cells": [
  {
   "cell_type": "code",
   "execution_count": 1,
   "metadata": {
    "collapsed": false
   },
   "outputs": [
    {
     "data": {
      "text/plain": [
       "\n",
       "Attaching package: ‘fastcluster’\n",
       "\n",
       "The following object is masked from ‘package:stats’:\n",
       "\n",
       "    hclust\n",
       "\n"
      ]
     },
     "metadata": {},
     "output_type": "display_data"
    },
    {
     "data": {
      "text/plain": [
       "\n",
       "Attaching package: ‘reshape2’\n",
       "\n",
       "The following objects are masked from ‘package:reshape’:\n",
       "\n",
       "    colsplit, melt, recast\n",
       "\n"
      ]
     },
     "metadata": {},
     "output_type": "display_data"
    },
    {
     "data": {
      "text/plain": [
       "\n",
       "Attaching package: ‘gplots’\n",
       "\n",
       "The following object is masked from ‘package:stats’:\n",
       "\n",
       "    lowess\n",
       "\n"
      ]
     },
     "metadata": {},
     "output_type": "display_data"
    },
    {
     "data": {
      "text/plain": [
       "Loading required package: DBI\n"
      ]
     },
     "metadata": {},
     "output_type": "display_data"
    },
    {
     "name": "stdout",
     "output_type": "stream",
     "text": [
      "set database db: ../csvdb\n",
      "set database anndb: /gfs/mirror/annotations/mm10_ensembl78/csvdb\n"
     ]
    }
   ],
   "source": [
    "%run notebook.config.ipy"
   ]
  },
  {
   "cell_type": "code",
   "execution_count": 2,
   "metadata": {
    "collapsed": false
   },
   "outputs": [
    {
     "data": {
      "text/html": [
       "<div style=\"max-height:1000px;max-width:1500px;overflow:auto;\">\n",
       "<table border=\"1\" class=\"dataframe\">\n",
       "  <thead>\n",
       "    <tr style=\"text-align: right;\">\n",
       "      <th></th>\n",
       "      <th>cell</th>\n",
       "      <th>variable</th>\n",
       "      <th>value</th>\n",
       "    </tr>\n",
       "  </thead>\n",
       "  <tbody>\n",
       "    <tr>\n",
       "      <th>0</th>\n",
       "      <td>L16755_7-0</td>\n",
       "      <td>fraction_spike</td>\n",
       "      <td>0.348932</td>\n",
       "    </tr>\n",
       "    <tr>\n",
       "      <th>1</th>\n",
       "      <td>L16755_7-1</td>\n",
       "      <td>fraction_spike</td>\n",
       "      <td>0.169597</td>\n",
       "    </tr>\n",
       "    <tr>\n",
       "      <th>2</th>\n",
       "      <td>L16755_7-10</td>\n",
       "      <td>fraction_spike</td>\n",
       "      <td>0.938686</td>\n",
       "    </tr>\n",
       "    <tr>\n",
       "      <th>3</th>\n",
       "      <td>L16755_7-11</td>\n",
       "      <td>fraction_spike</td>\n",
       "      <td>0.285408</td>\n",
       "    </tr>\n",
       "    <tr>\n",
       "      <th>4</th>\n",
       "      <td>L16755_7-12</td>\n",
       "      <td>fraction_spike</td>\n",
       "      <td>0.758213</td>\n",
       "    </tr>\n",
       "  </tbody>\n",
       "</table>\n",
       "</div>"
      ],
      "text/plain": [
       "          cell        variable     value\n",
       "0   L16755_7-0  fraction_spike  0.348932\n",
       "1   L16755_7-1  fraction_spike  0.169597\n",
       "2  L16755_7-10  fraction_spike  0.938686\n",
       "3  L16755_7-11  fraction_spike  0.285408\n",
       "4  L16755_7-12  fraction_spike  0.758213"
      ]
     },
     "execution_count": 2,
     "metadata": {},
     "output_type": "execute_result"
    }
   ],
   "source": [
    "statement = '''select * from qc_summary'''\n",
    "\n",
    "df = DB.fetch_DataFrame(statement,db)\n",
    "\n",
    "data = pd.melt(df,id_vars=\"cell\")\n",
    "data.head()"
   ]
  },
  {
   "cell_type": "code",
   "execution_count": 5,
   "metadata": {
    "collapsed": false,
    "scrolled": false
   },
   "outputs": [
    {
     "data": {
      "image/png": "[encoded data removed]"
     },
     "metadata": {},
     "output_type": "display_data"
    }
   ],
   "source": [
    "%%R -i data -w 700 -h 700\n",
    "\n",
    "gp <- ggplot(data, aes(x=value))\n",
    "gp <- gp + facet_wrap(~variable, scales=\"free\")\n",
    "gp <- gp + geom_histogram(nbin=200)\n",
    "gp <- gp + theme(axis.text.x=element_text(angle=90))\n",
    "gp <- gp + ggtitle(\"Post-mapping QC histograms\\n\")\n",
    "gp <- gp + ylab(\"no. cells\") + xlab(\"value - fraction or count\")\n",
    "\n",
    "suppressMessages(print(gp))\n",
    "#ggsave(\"post_mapping_qc.pdf\", gp, device=cairo_pdf)"
   ]
  }
 ],
 "metadata": {
  "kernelspec": {
   "display_name": "Python 2",
   "language": "python",
   "name": "python2"
  },
  "language_info": {
   "codemirror_mode": {
    "name": "ipython",
    "version": 2
   },
   "file_extension": ".py",
   "mimetype": "text/x-python",
   "name": "python",
   "nbconvert_exporter": "python",
   "pygments_lexer": "ipython2",
   "version": "2.7.9"
  }
 },
 "nbformat": 4,
 "nbformat_minor": 0
}
