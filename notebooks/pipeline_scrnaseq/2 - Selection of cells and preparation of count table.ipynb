{
 "cells": [
  {
   "cell_type": "code",
   "execution_count": 1,
   "metadata": {
    "collapsed": false
   },
   "outputs": [
    {
     "data": {
      "text/plain": [
       "\n",
       "Attaching package: ‘fastcluster’\n",
       "\n",
       "The following object is masked from ‘package:stats’:\n",
       "\n",
       "    hclust\n",
       "\n"
      ]
     },
     "metadata": {},
     "output_type": "display_data"
    },
    {
     "data": {
      "text/plain": [
       "\n",
       "Attaching package: ‘reshape2’\n",
       "\n",
       "The following objects are masked from ‘package:reshape’:\n",
       "\n",
       "    colsplit, melt, recast\n",
       "\n"
      ]
     },
     "metadata": {},
     "output_type": "display_data"
    },
    {
     "data": {
      "text/plain": [
       "\n",
       "Attaching package: ‘gplots’\n",
       "\n",
       "The following object is masked from ‘package:stats’:\n",
       "\n",
       "    lowess\n",
       "\n"
      ]
     },
     "metadata": {},
     "output_type": "display_data"
    },
    {
     "data": {
      "text/plain": [
       "Loading required package: DBI\n"
      ]
     },
     "metadata": {},
     "output_type": "display_data"
    },
    {
     "name": "stdout",
     "output_type": "stream",
     "text": [
      "set database db: ../csvdb\n",
      "set database anndb: /gfs/mirror/annotations/mm10_ensembl78/csvdb\n",
      "set database ipydb: csvdb\n"
     ]
    }
   ],
   "source": [
    "%run notebook.config.ipy"
   ]
  },
  {
   "cell_type": "markdown",
   "metadata": {},
   "source": [
    "*Unmelt the count data to a new table*"
   ]
  },
  {
   "cell_type": "code",
   "execution_count": 4,
   "metadata": {
    "collapsed": false
   },
   "outputs": [
    {
     "name": "stdout",
     "output_type": "stream",
     "text": [
      "(22116, 99)\n"
     ]
    }
   ],
   "source": [
    "statement = '''select * from htseq_counts'''\n",
    "\n",
    "counts = DB.fetch_DataFrame(statement, db)\n",
    "count_table = counts.pivot(columns=\"track\", index=\"gene_id\", values=\"counts\")\n",
    "\n",
    "print count_table.shape\n",
    "\n",
    "DB.write_DataFrame(count_table,\"count_table\",ipydb)\n",
    "#count_table.to_csv(\"count_table.txt\",sep=\"\\t\")\n"
   ]
  },
  {
   "cell_type": "markdown",
   "metadata": {},
   "source": [
    "*Select the cells based on the QC metrics*"
   ]
  },
  {
   "cell_type": "code",
   "execution_count": 17,
   "metadata": {
    "collapsed": false
   },
   "outputs": [
    {
     "name": "stdout",
     "output_type": "stream",
     "text": [
      "59\n"
     ]
    }
   ],
   "source": [
    "# e.g. select cells expressing more than 3000 genes\n",
    "\n",
    "statement = '''select cell \n",
    "               from qc_summary q\n",
    "               where q.no_genes > 3000'''\n",
    "\n",
    "good_cells = DB.fetch_DataFrame(statement, db)[\"cell\"].values\n",
    "\n",
    "print len(good_cells)"
   ]
  },
  {
   "cell_type": "markdown",
   "metadata": {},
   "source": [
    "*Prepare table of selected cells*"
   ]
  },
  {
   "cell_type": "code",
   "execution_count": 19,
   "metadata": {
    "collapsed": false
   },
   "outputs": [
    {
     "name": "stdout",
     "output_type": "stream",
     "text": [
      "(22116, 60)\n"
     ]
    }
   ],
   "source": [
    "cell_stat = '\"' + '\", \"'.join(good_cells) + '\"'\n",
    "\n",
    "# fetch a pandas dataframe containing the \"good\" cells\n",
    "statement = '''select gene_id, %(cell_stat)s\n",
    "               from count_table''' % locals()\n",
    "\n",
    "count_table_filtered = DB.fetch_DataFrame(statement, ipydb)\n",
    "print count_table_filtered.shape\n",
    "\n",
    "# write a new frame containing the filtered data\n",
    "DB.write_DataFrame(count_table_filtered, \"count_table_filtered\", ipydb)"
   ]
  }
 ],
 "metadata": {
  "kernelspec": {
   "display_name": "Python 2",
   "language": "python",
   "name": "python2"
  },
  "language_info": {
   "codemirror_mode": {
    "name": "ipython",
    "version": 2
   },
   "file_extension": ".py",
   "mimetype": "text/x-python",
   "name": "python",
   "nbconvert_exporter": "python",
   "pygments_lexer": "ipython2",
   "version": "2.7.9"
  }
 },
 "nbformat": 4,
 "nbformat_minor": 0
}
